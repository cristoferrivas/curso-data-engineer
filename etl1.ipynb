{
 "cells": [
  {
   "cell_type": "code",
   "execution_count": null,
   "metadata": {},
   "outputs": [
    {
     "ename": "",
     "evalue": "",
     "output_type": "error",
     "traceback": [
      "\u001b[1;31mFailed to start the Kernel. \n",
      "\u001b[1;31mKernel Python 3.9.6 is not usable. Check the Jupyter output tab for more information. \n",
      "\u001b[1;31mView Jupyter <a href='command:jupyter.viewOutput'>log</a> for further details."
     ]
    }
   ],
   "source": [
    "!pip install yfinance\n",
    "!pip install redshift_connector"
   ]
  },
  {
   "cell_type": "code",
   "execution_count": null,
   "metadata": {},
   "outputs": [],
   "source": [
    "import os\n",
    "import redshift_connector\n",
    "import yfinance as yf\n",
    "import pandas as pd\n",
    "from datetime import datetime\n",
    "\n",
    "#Connect to the cluster\n",
    "conn = redshift_connector.connect(\n",
    "    host = os.environ[\"REDSHIFT_CODER_HOST\"]\n",
    "    database = os.environ[\"REDSHIFT_CODER_DB\"]\n",
    "    port = os.environ[\"REDSHIFT_CODER_PORT\"]\n",
    "    user = os.environ[\"REDSHIFT_CODER_USER\"]\n",
    "    password = os.environ[\"REDSHIFT_CODER_PASSWORD\"]\n",
    ")\n",
    "\n",
    "my_schema = \"c_rivasaren_coderhouse\"\n",
    "conn.rollback()\n",
    "conn.autocommit = True\n",
    "# Create a Cursor object\n",
    "cursor = conn.cursor()\n",
    "\n",
    "#Extract data from Finance API\n",
    "df_list = []\n",
    "companies = ['AMZN','GOOG','WMT','TSLA','META'] \n",
    "end_date = datetime.now().strftime('%Y-%m-%d')\n",
    "start_date='2022-01-01'\n",
    "\n",
    "for x in companies:\n",
    "    data = yf.Ticker(x)\n",
    "    data_hist = data.history(start=start_date, end=end_date)\n",
    "    df_list.append(pd.DataFrame(data_hist).assign(Company=x))\n",
    "\n",
    "df = pd.concat(df_list)\n",
    "#rename column name without space\n",
    "df.rename(columns = {'Stock Splits':'Stock_Splits', 'Open': 'Open_market'}, inplace = True)\n",
    "\n",
    "#set datetime index as column to insert into redshift table\n",
    "df = df.reset_index()\n",
    "\n",
    "#Crea la tabla en redshift (solo ejecutar una vez)\n",
    "#cursor.execute(\"create table daily_prices(Date timestamp, Open_market decimal, High decimal, Low decimal, Close decimal, Volume decimal, Dividens decimal, Stock_Splits decimal, Company varchar)\")\n",
    "\n",
    "df[df.Company=='TSLA'].head()\n",
    "\n",
    "#Delete previous table's data\n",
    "cursor.execute(\"TRUNCATE daily_prices\")\n",
    "\n",
    "# Insertar datos en la tabla de Redshift\n",
    "query_insert = \"INSERT INTO daily_prices (Date, Open_market, High, Low, Close, Volume, Dividens, Stock_Splits, Company) VALUES (%s, %s, %s, %s, %s, %s, %s, %s, %s);\"\n",
    "data_insert = df.values.tolist()\n",
    "cursor.executemany(query_insert, data_insert)\n",
    "\n",
    "conn.close()"
   ]
  }
 ],
 "metadata": {
  "kernelspec": {
   "display_name": "Python 3",
   "language": "python",
   "name": "python3"
  },
  "language_info": {
   "name": "python",
   "version": "3.9.6 (default, Mar 10 2023, 20:16:38) \n[Clang 14.0.3 (clang-1403.0.22.14.1)]"
  },
  "orig_nbformat": 4,
  "vscode": {
   "interpreter": {
    "hash": "31f2aee4e71d21fbe5cf8b01ff0e069b9275f58929596ceb00d14d90e3e16cd6"
   }
  }
 },
 "nbformat": 4,
 "nbformat_minor": 2
}
